{
 "cells": [
  {
   "cell_type": "code",
   "execution_count": 1,
   "id": "508a0340",
   "metadata": {},
   "outputs": [],
   "source": [
    "# Import Libararies\n",
    "from bs4 import BeautifulSoup\n",
    "import requests\n",
    "import pandas as pd"
   ]
  },
  {
   "cell_type": "code",
   "execution_count": 2,
   "id": "f9545aad",
   "metadata": {},
   "outputs": [],
   "source": [
    "# Scraping Process\n",
    "Product_name = []\n",
    "Prices = []\n",
    "Description = []\n",
    "Reviews = []\n",
    "\n",
    "for i in range(2,10):\n",
    "    URL = \"https://www.flipkart.com/search?q=mobile+under+50000&otracker=search&otracker1=search&marketplace=FLIPKART&as-show=on&as=offEKZmKEGKimLotso-pZSU.7tCYcNzX34J0LgEPvfc-vvlBcbnOZBaEiJ1NmWP9aAU&dib_tag=se&keywords=data%2Banalyst%2Btshirt&qid=1709009499&sprefix=data%2Banalyst%2Btshirt%2Caps%2C227&=8-1sr&page=\"+str(i)\n",
    "\n",
    "    r = requests.get(URL)\n",
    "    soup = BeautifulSoup(r.text, \"lxml\")\n",
    "    box = soup.find(\"div\", class_=\"_1YokD2 _3Mn1Gg\")\n",
    "\n",
    "    names = box.find_all(\"div\", class_=\"_4rR01T\")\n",
    "    for i in names:\n",
    "        name = i.text\n",
    "        Product_name.append(name)\n",
    "\n",
    "    prices = box.find_all(\"div\", class_=\"_30jeq3 _1_WHN1\")\n",
    "    for i in prices:\n",
    "        name = i.text\n",
    "        Prices.append(name)\n",
    "  \n",
    "    desc = box.find_all(\"ul\", class_=\"_1xgFaf\")\n",
    "    for i in desc:\n",
    "        name = i.text\n",
    "        Description.append(name)\n",
    "\n",
    "    reviews = box.find_all(\"div\", class_=\"_3LWZlK\")\n",
    "    for i in reviews:\n",
    "        name = i.text\n",
    "        Reviews.append(name)"
   ]
  },
  {
   "cell_type": "code",
   "execution_count": 3,
   "id": "2a13f12f",
   "metadata": {},
   "outputs": [
    {
     "name": "stdout",
     "output_type": "stream",
     "text": [
      "Length of Product_name: 192\n",
      "Length of Prices: 192\n",
      "Length of Description: 192\n",
      "Length of Reviews: 189\n"
     ]
    }
   ],
   "source": [
    "# Length of each components\n",
    "print(\"Length of Product_name:\", len(Product_name))\n",
    "print(\"Length of Prices:\", len(Prices))\n",
    "print(\"Length of Description:\", len(Description))\n",
    "print(\"Length of Reviews:\", len(Reviews))"
   ]
  },
  {
   "cell_type": "code",
   "execution_count": 4,
   "id": "d959c663",
   "metadata": {},
   "outputs": [],
   "source": [
    "# Converting to csv file\n",
    "new_length = len(Reviews)\n",
    "\n",
    "Product_name = Product_name[:new_length]\n",
    "Prices = Prices[:new_length]\n",
    "Description = Description[:new_length]\n",
    "\n",
    "df = pd.DataFrame({\n",
    "    \"Product Name\": Product_name,\n",
    "    \"Prices\": Prices,\n",
    "    \"Description\": Description,\n",
    "    \"Reviews\": Reviews\n",
    "})\n",
    "\n",
    "df.to_csv(\"C:/Users/swast/OneDrive/Desktop/Web Scraping/Flipkart_Scrap.csv\")"
   ]
  }
 ],
 "metadata": {
  "kernelspec": {
   "display_name": "Python 3 (ipykernel)",
   "language": "python",
   "name": "python3"
  },
  "language_info": {
   "codemirror_mode": {
    "name": "ipython",
    "version": 3
   },
   "file_extension": ".py",
   "mimetype": "text/x-python",
   "name": "python",
   "nbconvert_exporter": "python",
   "pygments_lexer": "ipython3",
   "version": "3.11.4"
  }
 },
 "nbformat": 4,
 "nbformat_minor": 5
}
